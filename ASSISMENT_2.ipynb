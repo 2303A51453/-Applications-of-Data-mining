{
  "nbformat": 4,
  "nbformat_minor": 0,
  "metadata": {
    "colab": {
      "provenance": [],
      "authorship_tag": "ABX9TyOmwgXR3DlaJEOgY/lm8QpI",
      "include_colab_link": true
    },
    "kernelspec": {
      "name": "python3",
      "display_name": "Python 3"
    },
    "language_info": {
      "name": "python"
    }
  },
  "cells": [
    {
      "cell_type": "markdown",
      "metadata": {
        "id": "view-in-github",
        "colab_type": "text"
      },
      "source": [
        "<a href=\"https://colab.research.google.com/github/2303A51453/-Applications-of-Data-mining/blob/main/ASSISMENT_2.ipynb\" target=\"_parent\"><img src=\"https://colab.research.google.com/assets/colab-badge.svg\" alt=\"Open In Colab\"/></a>"
      ]
    },
    {
      "cell_type": "code",
      "execution_count": 2,
      "metadata": {
        "colab": {
          "base_uri": "https://localhost:8080/"
        },
        "id": "go_bgOsjTElH",
        "outputId": "fe225ad8-fbb8-4abc-a330-a63bd4368284"
      },
      "outputs": [
        {
          "output_type": "stream",
          "name": "stdout",
          "text": [
            "Question 1 - Ungrouped Data:\n",
            "Median: 45.0\n",
            "Mode (NumPy): 45\n",
            "Mode (Pandas): 45\n",
            "\n",
            "\n",
            "Question 2 - Grouped Data:\n",
            "Median: 30\n",
            "Mode (NumPy): 40\n",
            "Mode (Pandas): 10\n",
            "\n",
            "\n",
            "Question 3 - Grouped Data with Class Intervals:\n",
            "Median: 25.0\n",
            "Mode: 26.666666666666664\n"
          ]
        }
      ],
      "source": [
        "import numpy as np\n",
        "import pandas as pd\n",
        "from scipy import stats\n",
        "dataset = [12, 45, 67, 23, 45, 89, 45, 12, 33, 67, 67, 78, 45, 23, 23, 56, 89, 45, 33, 45]\n",
        "median_ungrouped = np.median(dataset)\n",
        "mode_ungrouped_np = stats.mode(dataset, keepdims=True).mode[0]\n",
        "mode_ungrouped_pd = pd.Series(dataset).mode()[0]\n",
        "print(\"Question 1 - Ungrouped Data:\")\n",
        "print(f\"Median: {median_ungrouped}\")\n",
        "print(f\"Mode (NumPy): {mode_ungrouped_np}\")\n",
        "print(f\"Mode (Pandas): {mode_ungrouped_pd}\")\n",
        "print(\"\\n\")\n",
        "scores = np.array([10, 20, 30, 40, 50])\n",
        "frequencies = np.array([5, 8, 12, 15, 7])\n",
        "cumulative_frequencies = np.cumsum(frequencies)\n",
        "total = cumulative_frequencies[-1]\n",
        "median_class_idx = np.where(cumulative_frequencies >= total / 2)[0][0]\n",
        "median_grouped = scores[median_class_idx]\n",
        "mode_grouped_np = scores[np.argmax(frequencies)]\n",
        "mode_grouped_pd = pd.Series(scores).mode()[0]\n",
        "print(\"Question 2 - Grouped Data:\")\n",
        "print(f\"Median: {median_grouped}\")\n",
        "print(f\"Mode (NumPy): {mode_grouped_np}\")\n",
        "print(f\"Mode (Pandas): {mode_grouped_pd}\")\n",
        "print(\"\\n\")\n",
        "class_intervals = [(0, 10), (10, 20), (20, 30), (30, 40), (40, 50)]\n",
        "frequencies = [4, 6, 10, 8, 2]\n",
        "midpoints = np.array([(a + b) / 2 for a, b in class_intervals])\n",
        "cumulative_frequencies = np.cumsum(frequencies)\n",
        "total = cumulative_frequencies[-1]\n",
        "median_class_idx = np.where(cumulative_frequencies >= total / 2)[0][0]\n",
        "L = class_intervals[median_class_idx][0]\n",
        "F = cumulative_frequencies[median_class_idx - 1] if median_class_idx > 0 else 0\n",
        "fm = frequencies[median_class_idx]\n",
        "h = class_intervals[median_class_idx][1] - class_intervals[median_class_idx][0]\n",
        "median_grouped = L + ((total / 2 - F) / fm) * h\n",
        "mode_class_idx = np.argmax(frequencies)\n",
        "L_mode = class_intervals[mode_class_idx][0]\n",
        "fm_mode = frequencies[mode_class_idx]\n",
        "f1 = frequencies[mode_class_idx - 1] if mode_class_idx > 0 else 0\n",
        "f2 = frequencies[mode_class_idx + 1] if mode_class_idx < len(frequencies) - 1 else 0\n",
        "mode_grouped = L_mode + ((fm_mode - f1) / ((fm_mode - f1) + (fm_mode - f2))) * h if ((fm_mode - f1) + (fm_mode - f2)) != 0 else L_mode\n",
        "print(\"Question 3 - Grouped Data with Class Intervals:\")\n",
        "print(f\"Median: {median_grouped}\")\n",
        "print(f\"Mode: {mode_grouped}\")"
      ]
    }
  ]
}